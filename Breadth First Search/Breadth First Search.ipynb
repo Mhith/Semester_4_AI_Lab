{
 "cells": [
  {
   "cell_type": "markdown",
   "id": "5de587d8",
   "metadata": {},
   "source": [
    "# Write a Program to Implement Breadth First Search using Python."
   ]
  },
  {
   "cell_type": "code",
   "execution_count": 2,
   "id": "6f4ca6e4",
   "metadata": {},
   "outputs": [
    {
     "name": "stdout",
     "output_type": "stream",
     "text": [
      "Following is Breadth First Traversal\n",
      "2 0 3 1 "
     ]
    }
   ],
   "source": [
    "from collections import defaultdict\n",
    "\n",
    "class Graph:\n",
    "\n",
    "\tdef __init__(self):\n",
    "\t\tself.graph = defaultdict(list)\n",
    "\n",
    "\tdef addEdge(self,u,v):\n",
    "\t\tself.graph[u].append(v)\n",
    "\n",
    "\tdef BFS(self, s):\n",
    "\t\tvisited = [False] * (len(self.graph))\n",
    "\t\tqueue = []\n",
    "\n",
    "\t\tqueue.append(s)\n",
    "\t\tvisited[s] = True\n",
    "\n",
    "\t\twhile queue:\n",
    "\n",
    "\t\t\ts = queue.pop(0)\n",
    "\t\t\tprint (s, end = \" \")\n",
    "\n",
    "\t\t\tfor i in self.graph[s]:\n",
    "\t\t\t\tif visited[i] == False:\n",
    "\t\t\t\t\tqueue.append(i)\n",
    "\t\t\t\t\tvisited[i] = True\n",
    "\n",
    "g = Graph()\n",
    "g.addEdge(0, 1)\n",
    "g.addEdge(0, 2)\n",
    "g.addEdge(1, 2)\n",
    "g.addEdge(2, 0)\n",
    "g.addEdge(2, 3)\n",
    "g.addEdge(3, 3)\n",
    "\n",
    "print (\"Following is Breadth First Traversal\")\n",
    "g.BFS(2)"
   ]
  }
 ],
 "metadata": {
  "kernelspec": {
   "display_name": "Python 3 (ipykernel)",
   "language": "python",
   "name": "python3"
  },
  "language_info": {
   "codemirror_mode": {
    "name": "ipython",
    "version": 3
   },
   "file_extension": ".py",
   "mimetype": "text/x-python",
   "name": "python",
   "nbconvert_exporter": "python",
   "pygments_lexer": "ipython3",
   "version": "3.9.13"
  }
 },
 "nbformat": 4,
 "nbformat_minor": 5
}
