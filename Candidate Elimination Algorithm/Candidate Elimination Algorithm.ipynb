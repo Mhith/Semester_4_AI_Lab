{
 "cells": [
  {
   "cell_type": "markdown",
   "id": "e63bdd6f",
   "metadata": {},
   "source": [
    "# For a given set of training data examples stored in a .CSV file, implement and demonstrate the Candidate-Elimination Algorithm to output a description of the set of all hypothesis consistent with the training examples."
   ]
  },
  {
   "cell_type": "code",
   "execution_count": 2,
   "id": "e4393a65",
   "metadata": {},
   "outputs": [
    {
     "name": "stdout",
     "output_type": "stream",
     "text": [
      "[['Sunny' 'Warm' 'Normal' 'Strong' 'Warm' 'Same']\n",
      " ['Sunny' 'Warm' 'High' 'Strong' 'Warm' 'Same']\n",
      " ['Rainy' 'Cold' 'High' 'Strong' 'Warm' 'Change']\n",
      " ['Sunny' 'Warm' 'High' 'Strong' 'Cool' 'Change']]\n",
      "[1 1 0 1]\n",
      "Initialization of specific_h and general_h\n",
      "['Sunny' 'Warm' 'Normal' 'Strong' 'Warm' 'Same']\n",
      "[['?', '?', '?', '?', '?', '?'], ['?', '?', '?', '?', '?', '?'], ['?', '?', '?', '?', '?', '?'], ['?', '?', '?', '?', '?', '?'], ['?', '?', '?', '?', '?', '?'], ['?', '?', '?', '?', '?', '?']]\n",
      "For Loop Starts\n",
      "If instance is Positive \n",
      " Steps of Candidate Elimination Algorithm 1\n",
      "['Sunny' 'Warm' 'Normal' 'Strong' 'Warm' 'Same']\n",
      "[['?', '?', '?', '?', '?', '?'], ['?', '?', '?', '?', '?', '?'], ['?', '?', '?', '?', '?', '?'], ['?', '?', '?', '?', '?', '?'], ['?', '?', '?', '?', '?', '?'], ['?', '?', '?', '?', '?', '?']]\n",
      "\n",
      "\n",
      "\n",
      "\n",
      "For Loop Starts\n",
      "If instance is Positive \n",
      " Steps of Candidate Elimination Algorithm 2\n",
      "['Sunny' 'Warm' '?' 'Strong' 'Warm' 'Same']\n",
      "[['?', '?', '?', '?', '?', '?'], ['?', '?', '?', '?', '?', '?'], ['?', '?', '?', '?', '?', '?'], ['?', '?', '?', '?', '?', '?'], ['?', '?', '?', '?', '?', '?'], ['?', '?', '?', '?', '?', '?']]\n",
      "\n",
      "\n",
      "\n",
      "\n",
      "For Loop Starts\n",
      "If instance is Negative \n",
      " Steps of Candidate Elimination Algorithm 3\n",
      "['Sunny' 'Warm' '?' 'Strong' 'Warm' 'Same']\n",
      "[['Sunny', '?', '?', '?', '?', '?'], ['?', 'Warm', '?', '?', '?', '?'], ['?', '?', '?', '?', '?', '?'], ['?', '?', '?', '?', '?', '?'], ['?', '?', '?', '?', '?', '?'], ['?', '?', '?', '?', '?', 'Same']]\n",
      "\n",
      "\n",
      "\n",
      "\n",
      "For Loop Starts\n",
      "If instance is Positive \n",
      " Steps of Candidate Elimination Algorithm 4\n",
      "['Sunny' 'Warm' '?' 'Strong' '?' '?']\n",
      "[['Sunny', '?', '?', '?', '?', '?'], ['?', 'Warm', '?', '?', '?', '?'], ['?', '?', '?', '?', '?', '?'], ['?', '?', '?', '?', '?', '?'], ['?', '?', '?', '?', '?', '?'], ['?', '?', '?', '?', '?', '?']]\n",
      "\n",
      "\n",
      "\n",
      "\n",
      "Final Specific_h:\n",
      "['Sunny' 'Warm' '?' 'Strong' '?' '?']\n",
      "Final General_h:\n",
      "[['Sunny', '?', '?', '?', '?', '?'], ['?', 'Warm', '?', '?', '?', '?']]\n"
     ]
    }
   ],
   "source": [
    "import pandas as pd\n",
    "import numpy as np\n",
    "data = pd.read_csv('./ENJOYSPORT.csv')\n",
    "concepts = np.array(data.iloc[:,0:-1])\n",
    "print(concepts) \n",
    "target = np.array(data.iloc[:,-1]) \n",
    "print(target)\n",
    "def learn(concepts, target):\n",
    "  specific_h = concepts[0].copy() \n",
    "  print(\"Initialization of specific_h and general_h\") \n",
    "  print(specific_h) \n",
    "  general_h = [[\"?\" for i in range(len(specific_h))] for i in range(len(specific_h))] \n",
    "  print(general_h)\n",
    "\n",
    "  for i, h in enumerate(concepts):\n",
    "    print(\"For Loop Starts\")\n",
    "    if target[i] == 1:\n",
    "      print(\"If instance is Positive \")\n",
    "      for x in range(len(specific_h)): \n",
    "        if h[x]!= specific_h[x]: \n",
    "          specific_h[x] ='?' \n",
    "          general_h[x][x] ='?' \n",
    "    if target[i] == 0: \n",
    "      print(\"If instance is Negative \")\n",
    "      for x in range(len(specific_h)): \n",
    "        if h[x]!= specific_h[x]: \n",
    "          general_h[x][x] = specific_h[x] \n",
    "        else: \n",
    "          general_h[x][x] = '?' \n",
    "    print(\" Steps of Candidate Elimination Algorithm\",i+1) \n",
    "    print(specific_h) \n",
    "    print(general_h)\n",
    "    print(\"\\n\")\n",
    "    print(\"\\n\")\n",
    "  indices = [i for i, val in enumerate(general_h) if val == ['?', '?', '?', '?', '?', '?']] \n",
    "  for i in indices: \n",
    "    general_h.remove(['?', '?', '?', '?', '?', '?']) \n",
    "  return specific_h, general_h\n",
    "\n",
    "s_final, g_final = learn(concepts, target)\n",
    "print(\"Final Specific_h:\", s_final, sep=\"\\n\")\n",
    "print(\"Final General_h:\", g_final, sep=\"\\n\")"
   ]
  }
 ],
 "metadata": {
  "kernelspec": {
   "display_name": "Python 3 (ipykernel)",
   "language": "python",
   "name": "python3"
  },
  "language_info": {
   "codemirror_mode": {
    "name": "ipython",
    "version": 3
   },
   "file_extension": ".py",
   "mimetype": "text/x-python",
   "name": "python",
   "nbconvert_exporter": "python",
   "pygments_lexer": "ipython3",
   "version": "3.9.13"
  }
 },
 "nbformat": 4,
 "nbformat_minor": 5
}
