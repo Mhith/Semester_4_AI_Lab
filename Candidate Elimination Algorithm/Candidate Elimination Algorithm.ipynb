{
 "cells": [
  {
   "cell_type": "code",
   "execution_count": 1,
   "id": "f0710d9d",
   "metadata": {},
   "outputs": [
    {
     "ename": "ModuleNotFoundError",
     "evalue": "No module named 'google'",
     "output_type": "error",
     "traceback": [
      "\u001b[0;31m---------------------------------------------------------------------------\u001b[0m",
      "\u001b[0;31mModuleNotFoundError\u001b[0m                       Traceback (most recent call last)",
      "\u001b[0;32m/var/folders/8y/x3n0hn4j0bb5d8jhwzrknt4h0000gn/T/ipykernel_3767/2063391217.py\u001b[0m in \u001b[0;36m<module>\u001b[0;34m\u001b[0m\n\u001b[1;32m      1\u001b[0m \u001b[0;32mimport\u001b[0m \u001b[0mpandas\u001b[0m \u001b[0;32mas\u001b[0m \u001b[0mpd\u001b[0m\u001b[0;34m\u001b[0m\u001b[0;34m\u001b[0m\u001b[0m\n\u001b[1;32m      2\u001b[0m \u001b[0;32mimport\u001b[0m \u001b[0mnumpy\u001b[0m \u001b[0;32mas\u001b[0m \u001b[0mnp\u001b[0m\u001b[0;34m\u001b[0m\u001b[0;34m\u001b[0m\u001b[0m\n\u001b[0;32m----> 3\u001b[0;31m \u001b[0;32mfrom\u001b[0m \u001b[0mgoogle\u001b[0m\u001b[0;34m.\u001b[0m\u001b[0mcolab\u001b[0m \u001b[0;32mimport\u001b[0m \u001b[0mdrive\u001b[0m\u001b[0;34m\u001b[0m\u001b[0;34m\u001b[0m\u001b[0m\n\u001b[0m\u001b[1;32m      4\u001b[0m \u001b[0mdrive\u001b[0m\u001b[0;34m.\u001b[0m\u001b[0mmount\u001b[0m\u001b[0;34m(\u001b[0m\u001b[0;34m'/content/gdrive'\u001b[0m\u001b[0;34m)\u001b[0m\u001b[0;34m\u001b[0m\u001b[0;34m\u001b[0m\u001b[0m\n\u001b[1;32m      5\u001b[0m \u001b[0mdata\u001b[0m \u001b[0;34m=\u001b[0m \u001b[0mpd\u001b[0m\u001b[0;34m.\u001b[0m\u001b[0mread_csv\u001b[0m\u001b[0;34m(\u001b[0m\u001b[0;34m'gdrive/My Drive/AI-Lab-Docs/ENJOYSPORT.csv'\u001b[0m\u001b[0;34m)\u001b[0m\u001b[0;34m\u001b[0m\u001b[0;34m\u001b[0m\u001b[0m\n",
      "\u001b[0;31mModuleNotFoundError\u001b[0m: No module named 'google'"
     ]
    }
   ],
   "source": [
    "import pandas as pd\n",
    "import numpy as np\n",
    "data = pd.read_csv('g/ENJOYSPORT.csv')\n",
    "concepts = np.array(data.iloc[:,0:-1])\n",
    "print(concepts) \n",
    "target = np.array(data.iloc[:,-1]) \n",
    "print(target)\n",
    "def learn(concepts, target):\n",
    "  specific_h = concepts[0].copy() \n",
    "  print(\"Initialization of specific_h and general_h\") \n",
    "  print(specific_h) \n",
    "  general_h = [[\"?\" for i in range(len(specific_h))] for i in range(len(specific_h))] \n",
    "  print(general_h)\n",
    "\n",
    "  for i, h in enumerate(concepts):\n",
    "    print(\"For Loop Starts\")\n",
    "    if target[i] == 1:\n",
    "      print(\"If instance is Positive \")\n",
    "      for x in range(len(specific_h)): \n",
    "        if h[x]!= specific_h[x]: \n",
    "          specific_h[x] ='?' \n",
    "          general_h[x][x] ='?' \n",
    "    if target[i] == 0: \n",
    "      print(\"If instance is Negative \")\n",
    "      for x in range(len(specific_h)): \n",
    "        if h[x]!= specific_h[x]: \n",
    "          general_h[x][x] = specific_h[x] \n",
    "        else: \n",
    "          general_h[x][x] = '?' \n",
    "    print(\" Steps of Candidate Elimination Algorithm\",i+1) \n",
    "    print(specific_h) \n",
    "    print(general_h)\n",
    "    print(\"\\n\")\n",
    "    print(\"\\n\")\n",
    "  indices = [i for i, val in enumerate(general_h) if val == ['?', '?', '?', '?', '?', '?']] \n",
    "  for i in indices: \n",
    "    general_h.remove(['?', '?', '?', '?', '?', '?']) \n",
    "  return specific_h, general_h\n",
    "\n",
    "s_final, g_final = learn(concepts, target)\n",
    "print(\"Final Specific_h:\", s_final, sep=\"\\n\")\n",
    "print(\"Final General_h:\", g_final, sep=\"\\n\")"
   ]
  },
  {
   "cell_type": "code",
   "execution_count": null,
   "id": "00c6a3e8",
   "metadata": {},
   "outputs": [],
   "source": []
  }
 ],
 "metadata": {
  "kernelspec": {
   "display_name": "Python 3 (ipykernel)",
   "language": "python",
   "name": "python3"
  },
  "language_info": {
   "codemirror_mode": {
    "name": "ipython",
    "version": 3
   },
   "file_extension": ".py",
   "mimetype": "text/x-python",
   "name": "python",
   "nbconvert_exporter": "python",
   "pygments_lexer": "ipython3",
   "version": "3.9.13"
  }
 },
 "nbformat": 4,
 "nbformat_minor": 5
}
