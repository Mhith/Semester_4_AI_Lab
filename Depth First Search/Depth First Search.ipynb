{
 "cells": [
  {
   "cell_type": "markdown",
   "id": "7cd648da",
   "metadata": {},
   "source": [
    "# Write a Program to Implement Depth First Search using Python."
   ]
  },
  {
   "cell_type": "code",
   "execution_count": 2,
   "id": "ad623cb1",
   "metadata": {},
   "outputs": [
    {
     "name": "stdout",
     "output_type": "stream",
     "text": [
      "Following is Depth First Traversal\n",
      "0\n",
      "1\n",
      "2\n",
      "3\n"
     ]
    }
   ],
   "source": [
    "from collections import defaultdict\n",
    "\n",
    "class Graph:\n",
    "\n",
    "\tdef __init__(self):\n",
    "\n",
    "\t\tself.graph = defaultdict(list)\n",
    "\n",
    "\tdef addEdge(self,u,v):\n",
    "\t\tself.graph[u].append(v)\n",
    "\n",
    "\tdef DFSUtil(self, v, visited):\n",
    "\n",
    "\t\tvisited[v]= True\n",
    "\t\tprint(v)\n",
    "\n",
    "\t\tfor i in self.graph[v]:\n",
    "\t\t\tif visited[i] == False:\n",
    "\t\t\t\tself.DFSUtil(i, visited)\n",
    "\n",
    "\tdef DFS(self):\n",
    "\t\tV = len(self.graph)\n",
    "\n",
    "\t\tvisited =[False]*(V)\n",
    "\n",
    "\t\tfor i in range(V):\n",
    "\t\t\tif visited[i] == False:\n",
    "\t\t\t\tself.DFSUtil(i, visited)\n",
    "\n",
    "g = Graph()\n",
    "g.addEdge(0, 1)\n",
    "g.addEdge(0, 2)\n",
    "g.addEdge(1, 2)\n",
    "g.addEdge(2, 0)\n",
    "g.addEdge(2, 3)\n",
    "g.addEdge(3, 3)\n",
    "\n",
    "print (\"Following is Depth First Traversal\")\n",
    "g.DFS()"
   ]
  }
 ],
 "metadata": {
  "kernelspec": {
   "display_name": "Python 3 (ipykernel)",
   "language": "python",
   "name": "python3"
  },
  "language_info": {
   "codemirror_mode": {
    "name": "ipython",
    "version": 3
   },
   "file_extension": ".py",
   "mimetype": "text/x-python",
   "name": "python",
   "nbconvert_exporter": "python",
   "pygments_lexer": "ipython3",
   "version": "3.9.13"
  }
 },
 "nbformat": 4,
 "nbformat_minor": 5
}
