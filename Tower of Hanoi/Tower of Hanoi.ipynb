{
 "cells": [
  {
   "cell_type": "markdown",
   "id": "c4e5f77c",
   "metadata": {},
   "source": [
    "# Write a Program to Implement Tower of Hanoi using Python."
   ]
  },
  {
   "cell_type": "code",
   "execution_count": 1,
   "id": "1f9dce59",
   "metadata": {},
   "outputs": [
    {
     "name": "stdout",
     "output_type": "stream",
     "text": [
      "Enter number of towers: 3\n",
      "Move disk 1 from source A to destination B\n",
      "Move disk 2 from source A to destination C\n",
      "Move disk 1 from source B to destination C\n",
      "Move disk 3 from source A to destination B\n",
      "Move disk 1 from source C to destination A\n",
      "Move disk 2 from source C to destination B\n",
      "Move disk 1 from source A to destination B\n"
     ]
    }
   ],
   "source": [
    "def TowerOfHanoi(n , source, destination, auxiliary):\n",
    "\tif n==1:\n",
    "\t\tprint (\"Move disk 1 from source\",source,\"to destination\",destination)\n",
    "\t\treturn\n",
    "\tTowerOfHanoi(n-1, source, auxiliary, destination)\n",
    "\tprint (\"Move disk\",n,\"from source\",source,\"to destination\",destination)\n",
    "\tTowerOfHanoi(n-1, auxiliary, destination, source)\n",
    "\t\t\n",
    "n = int(input(\"Enter number of towers: \"))\n",
    "TowerOfHanoi(n,'A','B','C')"
   ]
  }
 ],
 "metadata": {
  "kernelspec": {
   "display_name": "Python 3 (ipykernel)",
   "language": "python",
   "name": "python3"
  },
  "language_info": {
   "codemirror_mode": {
    "name": "ipython",
    "version": 3
   },
   "file_extension": ".py",
   "mimetype": "text/x-python",
   "name": "python",
   "nbconvert_exporter": "python",
   "pygments_lexer": "ipython3",
   "version": "3.9.13"
  }
 },
 "nbformat": 4,
 "nbformat_minor": 5
}
